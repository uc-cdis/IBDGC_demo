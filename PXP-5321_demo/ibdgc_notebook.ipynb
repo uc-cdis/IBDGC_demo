{
 "cells": [
  {
   "cell_type": "code",
   "execution_count": null,
   "metadata": {
    "scrolled": false
   },
   "outputs": [],
   "source": [
    "#Update pip, install and update gen3 and then load the specially made library, \"ibdgc_library.\"\n",
    "!pip install --upgrade pip\n",
    "!pip install gen3\n",
    "!pip install --upgrade gen3\n",
    "import ibdgc_library as ibd\n"
   ]
  },
  {
   "cell_type": "code",
   "execution_count": null,
   "metadata": {
    "scrolled": true
   },
   "outputs": [],
   "source": [
    "#Get a summary of available files and participants in the IBDGC commons.\n",
    "ibd.query_summary_counts()"
   ]
  },
  {
   "cell_type": "code",
   "execution_count": null,
   "metadata": {
    "scrolled": false
   },
   "outputs": [],
   "source": [
    "#Get participant clinical information based on a GraphQL query.\n",
    "summary_df=ibd.query_counts_by_collection(\"IIBDGC-GWAS-Mega-2\")"
   ]
  },
  {
   "cell_type": "code",
   "execution_count": null,
   "metadata": {},
   "outputs": [],
   "source": [
    "#Participant clinical information.\n",
    "summary_df"
   ]
  },
  {
   "cell_type": "code",
   "execution_count": null,
   "metadata": {},
   "outputs": [],
   "source": [
    "#Export participant clinical information.\n",
    "summary_df.to_csv(\"summary_df.csv\")"
   ]
  },
  {
   "cell_type": "code",
   "execution_count": null,
   "metadata": {},
   "outputs": [],
   "source": [
    "#Read in summary_df.csv to save time\n",
    "summary_df=ibd.pd.read_csv(\"summary_df.csv\")"
   ]
  },
  {
   "cell_type": "code",
   "execution_count": null,
   "metadata": {
    "scrolled": false
   },
   "outputs": [],
   "source": [
    "#Group participant counts based on the center, gender, diagnosis and ibd affection status.\n",
    "summary_df.drop(['country','investigator'],axis=1).groupby(['center_id','gender','diagnosis','ibd_affection_status']).count()"
   ]
  }
 ],
 "metadata": {
  "kernelspec": {
   "display_name": "Python 3",
   "language": "python",
   "name": "python3"
  },
  "language_info": {
   "codemirror_mode": {
    "name": "ipython",
    "version": 3
   },
   "file_extension": ".py",
   "mimetype": "text/x-python",
   "name": "python",
   "nbconvert_exporter": "python",
   "pygments_lexer": "ipython3",
   "version": "3.6.7"
  }
 },
 "nbformat": 4,
 "nbformat_minor": 2
}
